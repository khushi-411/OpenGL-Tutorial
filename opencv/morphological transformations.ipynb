{
 "cells": [
  {
   "cell_type": "code",
   "execution_count": 2,
   "metadata": {},
   "outputs": [
    {
     "data": {
      "image/png": "[encoded data removed]",
      "text/plain": [
       "<Figure size 432x288 with 8 Axes>"
      ]
     },
     "metadata": {},
     "output_type": "display_data"
    }
   ],
   "source": [
    "import cv2\n",
    "import numpy as np\n",
    "from matplotlib import pyplot as plt\n",
    "\n",
    "img = cv2.imread('smarties.png', cv2.IMREAD_GRAYSCALE)\n",
    "_, mask = cv2.threshold(img, 220, 255, cv2.THRESH_BINARY_INV)\n",
    "\n",
    "kernal = np.ones((2, 2), np.uint8)\n",
    "\n",
    "dilation = cv2.dilate(mask, kernal, iterations = 2)\n",
    "erosion = cv2.erode(mask, kernal, iterations = 5)\n",
    "opening = cv2.morphologyEx(mask, cv2.MORPH_OPEN, kernal)\n",
    "closing = cv2.morphologyEx(mask, cv2.MORPH_CLOSE, kernal)\n",
    "mg = cv2.morphologyEx(mask, cv2.MORPH_GRADIENT, kernal)\n",
    "th = cv2.morphologyEx(mask, cv2.MORPH_TOPHAT, kernal)\n",
    "\n",
    "titles = ['image', 'mask', 'dilation', 'erosion', 'opening', 'closing', 'mg', 'th']\n",
    "images = [img, mask, dilation, erosion, opening, closing, mg, th]\n",
    "\n",
    "for i in range(8):\n",
    "    plt.subplot(1, 8, i+1), plt.imshow(images[i], 'gray')\n",
    "    plt.title(titles[i])\n",
    "    plt.xticks([]), plt.yticks([])\n",
    "    \n",
    "plt.show()"
   ]
  },
  {
   "cell_type": "code",
   "execution_count": null,
   "metadata": {},
   "outputs": [],
   "source": []
  }
 ],
 "metadata": {
  "kernelspec": {
   "display_name": "Python 3",
   "language": "python",
   "name": "python3"
  },
  "language_info": {
   "codemirror_mode": {
    "name": "ipython",
    "version": 3
   },
   "file_extension": ".py",
   "mimetype": "text/x-python",
   "name": "python",
   "nbconvert_exporter": "python",
   "pygments_lexer": "ipython3",
   "version": "3.7.7"
  }
 },
 "nbformat": 4,
 "nbformat_minor": 2
}
