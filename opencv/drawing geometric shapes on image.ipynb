{
 "cells": [
  {
   "cell_type": "code",
   "execution_count": 1,
   "metadata": {},
   "outputs": [],
   "source": [
    "import numpy as np\n",
    "import cv2\n",
    "\n",
    "#img = cv2.imread('khushi.jpg',1)\n",
    "img = np.zeros([512, 512,3], np.uint8)\n",
    "\n",
    "img = cv2.line(img, (0, 0), (255, 255), (0, 0, 255), 5)\n",
    "img = cv2.arrowedLine(img, (0, 255), (255, 255), (0, 0, 255), 5)\n",
    "\n",
    "img = cv2.rectangle(img, (384, 0), (510, 128), (0, 0, 255), 5)\n",
    "img = cv2.circle(img, (447,63), 50, (0, 255 ,0), -1)\n",
    "font = cv2.FONT_HERSHEY_SIMPLEX\n",
    "img = cv2.putText(img, 'Khushi',(510, 447), font, 4,(0, 255, 255), 10, cv2.LINE_AA)\n",
    "\n",
    "cv2.imshow('image', img)\n",
    "\n",
    "cv2.waitKey(0)\n",
    "cv2.destroyAllWindows()\n"
   ]
  },
  {
   "cell_type": "code",
   "execution_count": null,
   "metadata": {},
   "outputs": [],
   "source": []
  },
  {
   "cell_type": "code",
   "execution_count": null,
   "metadata": {},
   "outputs": [],
   "source": []
  }
 ],
 "metadata": {
  "kernelspec": {
   "display_name": "Python 3",
   "language": "python",
   "name": "python3"
  },
  "language_info": {
   "codemirror_mode": {
    "name": "ipython",
    "version": 3
   },
   "file_extension": ".py",
   "mimetype": "text/x-python",
   "name": "python",
   "nbconvert_exporter": "python",
   "pygments_lexer": "ipython3",
   "version": "3.7.4"
  }
 },
 "nbformat": 4,
 "nbformat_minor": 2
}
