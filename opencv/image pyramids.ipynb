{
 "cells": [
  {
   "cell_type": "code",
   "execution_count": null,
   "metadata": {},
   "outputs": [],
   "source": [
    "import cv2\n",
    "import numpy as np\n",
    "\n",
    "img =  cv2.imread('khushi.jpg')\n",
    "#lr1 = cv2.pyrDown(img)\n",
    "#lr2 = cv2.pyrDown(lr1)\n",
    "#hr = cv2.pyrUp(lr2)\n",
    "\n",
    "#cv2.imshow(\"Original image\", img)\n",
    "#cv2.imshow(\"pyrDown 1 image\", lr1)\n",
    "#cv2.imshow(\"pyrDown 2 image\", lr2)\n",
    "#cv2.imshow(\"pyrUp 1 image\", hr)\n",
    "\n",
    "layer = img.copy()\n",
    "gp = [layer]\n",
    "\n",
    "for i in range(6):\n",
    "    layer = cv2.pyrDown(layer)\n",
    "    gp.append(layer)\n",
    "    cv2.imshow(str(i), layer)\n",
    "\n",
    "layer = gp[5]\n",
    "cv2.imshow('upper level gaussian pyramid', layer)\n",
    "lp = [layer]\n",
    "\n",
    "\n",
    "for i in range(5, 0, -1):\n",
    "    print(i)\n",
    "    gaussian_extend = cv2.pyrUp(gp[i])\n",
    "    laplacian = cv2.subtract(gp[i-1], gaussian_extend)\n",
    "    cv2.imshow(str(i), laplacian)\n",
    "    \n",
    "cv2.imshow(\"Original image\", img)\n",
    "cv2.waitKey(0)\n",
    "cv2.destroyAllWindows()"
   ]
  },
  {
   "cell_type": "code",
   "execution_count": null,
   "metadata": {},
   "outputs": [],
   "source": []
  }
 ],
 "metadata": {
  "kernelspec": {
   "display_name": "Python 3",
   "language": "python",
   "name": "python3"
  },
  "language_info": {
   "codemirror_mode": {
    "name": "ipython",
    "version": 3
   },
   "file_extension": ".py",
   "mimetype": "text/x-python",
   "name": "python",
   "nbconvert_exporter": "python",
   "pygments_lexer": "ipython3",
   "version": "3.7.4"
  }
 },
 "nbformat": 4,
 "nbformat_minor": 2
}
