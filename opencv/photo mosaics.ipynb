{
 "cells": [
  {
   "cell_type": "code",
   "execution_count": 1,
   "metadata": {},
   "outputs": [
    {
     "ename": "SyntaxError",
     "evalue": "invalid syntax (<ipython-input-1-9374b4e05918>, line 51)",
     "output_type": "error",
     "traceback": [
      "\u001b[1;36m  File \u001b[1;32m\"<ipython-input-1-9374b4e05918>\"\u001b[1;36m, line \u001b[1;32m51\u001b[0m\n\u001b[1;33m    print(\"Invalid image : %s\", %(filepath ))\u001b[0m\n\u001b[1;37m                                ^\u001b[0m\n\u001b[1;31mSyntaxError\u001b[0m\u001b[1;31m:\u001b[0m invalid syntax\n"
     ]
    }
   ],
   "source": [
    "import os, random, argparse\n",
    "from PIL import Image\n",
    "import imghdr\n",
    "import numpy as np\n",
    "\n",
    "def getAvgRGBOld(image):\n",
    "    npixels = image.size[0] * image.size[1]\n",
    "    cols = image.getcolors(npixels)\n",
    "    sumRGB = [(x[0]*x[1][0], x[0]*x[1][1], x[0]*x[1][2]) for x in cols]\n",
    "    avg = tuple([int(sum(x)/npixels) for x in zip(*sumRGB)])\n",
    "    return avg\n",
    "\n",
    "def getAvgRGB(image):\n",
    "    im = np.array(image)\n",
    "    w, h, d = im.shape\n",
    "    return tuple(np.average(im.reshape(w*h, d), axis = 0))\n",
    "\n",
    "def splitImage(image, size):\n",
    "    W, H = image.size[0], image.size[1]\n",
    "    m, n = size\n",
    "    w, h = int(W/n), int(H/m)\n",
    "    imgs = []\n",
    "    for j in range(m):\n",
    "        for i in range(n):\n",
    "            imgs.append(image.crop((i*w, j*h, (i+1)*w, (j+1)*h)))\n",
    "    return imgs\n",
    "\n",
    "def getImages(imageDir):\n",
    "    files = os.listdir(imageDir)\n",
    "    images = []\n",
    "    for file in files:\n",
    "        filePath = os.path.abspath(os.path.join(imageDir, file))\n",
    "        try:\n",
    "            fp = open(filePath, \"rb\")\n",
    "            im = Image.open(fp)\n",
    "            images.append(im)\n",
    "            im.load()\n",
    "            fp.close()\n",
    "        except:\n",
    "            print(\"Invalid image : %s\" %(filePath ))\n",
    "    return images\n",
    "\n",
    "def getImageFilename(imageDir):\n",
    "    files = os.listdir(imageDir)\n",
    "    filenames = []\n",
    "    for file in files:\n",
    "        filepath = os.path.abspath(os.path.join(imageDir, file))\n",
    "        try:\n",
    "            imgType = imghdr.what(filePath)\n",
    "        except:\n",
    "            print(\"Invalid image : %s\", %(filepath ))\n",
    "    return filenames\n",
    "\n",
    "def getBestMatchIndex(input_avg, avgs):\n",
    "    avg = input_avg\n",
    "    index = 0\n",
    "    min_index = 0\n",
    "    min_dist = float(\"inf\")\n",
    "    for val in avgs:\n",
    "        dist = ((val[0] - avg[0])*(val[0] - avg[0]) + (val[1] - avg[1])*(val[1] - avg[1]) + (val[2] - avg[2])*(val[2] - avg[2]))\n",
    "        if dist < min_dist:\n",
    "            min_dist = dist\n",
    "            min_index = index\n",
    "            index += 1\n",
    "    return min_index\n",
    "\n",
    "def createImageGrid(images, dims):\n",
    "    m, n = dims\n",
    "    assert m*n = len(images)\n",
    "    width = max([img.size[0] for img in images])\n",
    "    height = max([img.size[0] for img in images])\n",
    "    grid_img = Image.new('RGB', (n*width, m*height))\n",
    "    for index in range(len(images)):\n",
    "        row = int(index/n)\n",
    "        col = index - n*row\n",
    "        grid_img.paste(image[index], (col*width, col*height))\n",
    "    return grid_img\n",
    "\n"
   ]
  },
  {
   "cell_type": "code",
   "execution_count": null,
   "metadata": {},
   "outputs": [],
   "source": []
  }
 ],
 "metadata": {
  "kernelspec": {
   "display_name": "Python 3",
   "language": "python",
   "name": "python3"
  },
  "language_info": {
   "codemirror_mode": {
    "name": "ipython",
    "version": 3
   },
   "file_extension": ".py",
   "mimetype": "text/x-python",
   "name": "python",
   "nbconvert_exporter": "python",
   "pygments_lexer": "ipython3",
   "version": "3.7.7"
  }
 },
 "nbformat": 4,
 "nbformat_minor": 4
}
