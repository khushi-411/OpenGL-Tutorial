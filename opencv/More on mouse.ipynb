{
 "cells": [
  {
   "cell_type": "code",
   "execution_count": 3,
   "metadata": {},
   "outputs": [],
   "source": [
    "import numpy as np\n",
    "import cv2\n",
    "\n",
    "def click_event(event, x, y, flags, param):\n",
    "    if event == cv2.EVENT_LBUTTONDOWN:\n",
    "        #cv2.circle(img, (x, y), 3, (0, 0, 255), -1)\n",
    "        #points.append((x, y))\n",
    "        #if len(points) >= 2:\n",
    "           #cv2.line(img, points[-1], points[-2], (0, 0 , 255), 5)\n",
    "            \n",
    "        blue = img[x, y, 0]\n",
    "        green = img[x, y, 1]\n",
    "        red = img[x, y, 2]\n",
    "        cv2.circle(img, (x, y), 3, (0, 0, 255), -1)\n",
    "        mycolorImage = np.zeros((512, 512, 3), np.uint8)\n",
    "        \n",
    "        mycolorImage[:] = [blue, green, red]\n",
    "        \n",
    "        cv2.imshow('image', img)\n",
    "        \n",
    "#img = cv2.imread('khushi.jpg', 1)\n",
    "img = np.zeros((512, 512, 3), np.uint8)\n",
    "cv2.imshow('image', img)\n",
    "points = []\n",
    "cv2.setMouseCallback('image', click_event)\n",
    "\n",
    "cv2.waitKey(0)\n",
    "cv2.destroyAllWindows()\n"
   ]
  },
  {
   "cell_type": "code",
   "execution_count": null,
   "metadata": {},
   "outputs": [],
   "source": []
  },
  {
   "cell_type": "code",
   "execution_count": null,
   "metadata": {},
   "outputs": [],
   "source": []
  }
 ],
 "metadata": {
  "kernelspec": {
   "display_name": "Python 3",
   "language": "python",
   "name": "python3"
  },
  "language_info": {
   "codemirror_mode": {
    "name": "ipython",
    "version": 3
   },
   "file_extension": ".py",
   "mimetype": "text/x-python",
   "name": "python",
   "nbconvert_exporter": "python",
   "pygments_lexer": "ipython3",
   "version": "3.7.4"
  }
 },
 "nbformat": 4,
 "nbformat_minor": 2
}
