{
 "cells": [
  {
   "cell_type": "code",
   "execution_count": null,
   "metadata": {},
   "outputs": [],
   "source": [
    "import cv2\n",
    "\n",
    "def color():\n",
    "\n",
    "    def setValues(x):\n",
    "        print(\"\")\n",
    "        \n",
    "    # creating a window for HUE selector\n",
    "    cv2.namedWindow(\"Color detectors\") \n",
    "    cv2.createTrackbar(\"Upper Hue\", \"Color detectors\", 153, 180, setValues) \n",
    "    cv2.createTrackbar(\"Upper Saturation\", \"Color detectors\", 255, 255, setValues) \n",
    "    cv2.createTrackbar(\"Upper Value\", \"Color detectors\", 255, 255, setValues) \n",
    "    cv2.createTrackbar(\"Lower Hue\", \"Color detectors\", 64, 180, setValues) \n",
    "    cv2.createTrackbar(\"Lower Saturation\", \"Color detectors\", 72, 255, setValues) \n",
    "    cv2.createTrackbar(\"Lower Value\", \"Color detectors\", 49, 255, setValues)"
   ]
  }
 ],
 "metadata": {
  "kernelspec": {
   "display_name": "Python 3",
   "language": "python",
   "name": "python3"
  },
  "language_info": {
   "codemirror_mode": {
    "name": "ipython",
    "version": 3
   },
   "file_extension": ".py",
   "mimetype": "text/x-python",
   "name": "python",
   "nbconvert_exporter": "python",
   "pygments_lexer": "ipython3",
   "version": "3.7.7"
  }
 },
 "nbformat": 4,
 "nbformat_minor": 4
}
