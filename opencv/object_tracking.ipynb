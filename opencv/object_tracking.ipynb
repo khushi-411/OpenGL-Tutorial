{
 "cells": [
  {
   "cell_type": "code",
   "execution_count": 9,
   "metadata": {},
   "outputs": [
    {
     "ename": "IndexError",
     "evalue": "invalid index to scalar variable.",
     "output_type": "error",
     "traceback": [
      "\u001b[1;31m---------------------------------------------------------------------------\u001b[0m",
      "\u001b[1;31mIndexError\u001b[0m                                Traceback (most recent call last)",
      "\u001b[1;32m<ipython-input-9-717fd5391aa5>\u001b[0m in \u001b[0;36m<module>\u001b[1;34m\u001b[0m\n\u001b[0;32m     49\u001b[0m         \u001b[1;32mfor\u001b[0m \u001b[0mindex\u001b[0m\u001b[1;33m,\u001b[0m \u001b[0mcontour\u001b[0m \u001b[1;32min\u001b[0m \u001b[0menumerate\u001b[0m\u001b[1;33m(\u001b[0m\u001b[0mcontour_image\u001b[0m\u001b[1;33m)\u001b[0m\u001b[1;33m:\u001b[0m\u001b[1;33m\u001b[0m\u001b[1;33m\u001b[0m\u001b[0m\n\u001b[0;32m     50\u001b[0m             \u001b[1;32mfor\u001b[0m \u001b[0mcount\u001b[0m\u001b[1;33m,\u001b[0m \u001b[0mpoint\u001b[0m \u001b[1;32min\u001b[0m \u001b[0menumerate\u001b[0m\u001b[1;33m(\u001b[0m\u001b[0meach_contour\u001b[0m\u001b[1;33m)\u001b[0m\u001b[1;33m:\u001b[0m\u001b[1;33m\u001b[0m\u001b[1;33m\u001b[0m\u001b[0m\n\u001b[1;32m---> 51\u001b[1;33m                 \u001b[0mpt_x\u001b[0m\u001b[1;33m,\u001b[0m \u001b[0mpt_y\u001b[0m \u001b[1;33m=\u001b[0m \u001b[0mpoint\u001b[0m\u001b[1;33m[\u001b[0m\u001b[1;36m0\u001b[0m\u001b[1;33m]\u001b[0m\u001b[1;33m[\u001b[0m\u001b[1;36m0\u001b[0m\u001b[1;33m]\u001b[0m\u001b[1;33m,\u001b[0m \u001b[0mpoint\u001b[0m\u001b[1;33m[\u001b[0m\u001b[1;36m1\u001b[0m\u001b[1;33m]\u001b[0m\u001b[1;33m[\u001b[0m\u001b[1;36m1\u001b[0m\u001b[1;33m]\u001b[0m\u001b[1;33m\u001b[0m\u001b[1;33m\u001b[0m\u001b[0m\n\u001b[0m\u001b[0;32m     52\u001b[0m                 \u001b[0mblack_image\u001b[0m\u001b[1;33m[\u001b[0m\u001b[0mpt_y\u001b[0m\u001b[1;33m,\u001b[0m \u001b[0mpy_x\u001b[0m\u001b[1;33m]\u001b[0m \u001b[1;33m=\u001b[0m \u001b[1;33m[\u001b[0m\u001b[1;36m255\u001b[0m\u001b[1;33m,\u001b[0m \u001b[1;36m255\u001b[0m\u001b[1;33m,\u001b[0m \u001b[1;36m255\u001b[0m\u001b[1;33m]\u001b[0m\u001b[1;33m\u001b[0m\u001b[1;33m\u001b[0m\u001b[0m\n\u001b[0;32m     53\u001b[0m                 \u001b[0mcv2\u001b[0m\u001b[1;33m.\u001b[0m\u001b[0mimshow\u001b[0m\u001b[1;33m(\u001b[0m\u001b[1;34m\"Output Image\"\u001b[0m\u001b[1;33m,\u001b[0m \u001b[0mblack_image\u001b[0m\u001b[1;33m)\u001b[0m\u001b[1;33m\u001b[0m\u001b[1;33m\u001b[0m\u001b[0m\n",
      "\u001b[1;31mIndexError\u001b[0m: invalid index to scalar variable."
     ]
    }
   ],
   "source": [
    "import cv2\n",
    "import numpy as np\n",
    "import sys, time\n",
    "\n",
    "def calculate_contours(image):\n",
    "    gray = cv2.cvtColor(image, cv2.COLOR_BGR2GRAY)\n",
    "    ret, thresh = cv2.threshold(gray, 220, 255, 0)\n",
    "    \n",
    "    cv2.imshow(\"Threshold Image\", thresh)\n",
    "    # cv2.waitKey(0)\n",
    "    # cv2.destroyAllWindows()\n",
    "    \n",
    "    # Find Canny Edge\n",
    "    edged = cv2.Canny(thresh, 220, 255)\n",
    "    \n",
    "    cv2.imshow(\"Edged Image\", edged)\n",
    "    # cv2.waitKey(0)\n",
    "    # cv2.destroyAllWindows()\n",
    "    return edged\n",
    "\n",
    "if __name__ == \"__main__\":\n",
    "    \n",
    "    # sys.argv[1] = take the 1st command line argument\n",
    "    # 1 = color mode\n",
    "    \n",
    "    # error: OpenCV(4.2.0) C:\\projects\\opencv-python\\opencv\\modules\\imgproc\\src\\resize.cpp:4045: error: (-215:Assertion failed) !ssize.empty() in function 'cv::resize'\n",
    "    # ---- This error happened because the image didn't load properly.\n",
    "        # So you have problem with the previous line cv2.imread my suggestion is :\n",
    "\n",
    "        # check if the images exist in the path you give\n",
    "\n",
    "        # check the count variable if he have valid number\n",
    "    \n",
    "    img = cv2.imread(\"opencv-logo.png\")\n",
    "    _, th1 = cv2.threshold(img, 127, 255, cv2.THRESH_BINARY_INV)\n",
    "    img = cv2.resize(th1, (900, 700), interpolation = cv2.INTER_AREA)\n",
    "    \n",
    "    # backup = img.copy()\n",
    "    # backup = 255 - backup\n",
    "    black_image = cv2.imread(\"black_image.jpg\", 1)\n",
    "    black_image = cv2.resize(black_image, (img.shape[1], img.shape[0]), cv2.INTER_AREA)\n",
    "    \n",
    "    contour_image = calculate_contours(img)\n",
    "    # print(contour_image)\n",
    "    cv2.imshow(\"Input Image\", black_image)\n",
    "    \n",
    "    # print(len(contour_image), len(contour_image[0]), len(contour_image[1]), len(contour_image[2]))\n",
    "    if contour_image is not None:\n",
    "        for index, contour in enumerate(contour_image):\n",
    "            for count, point in enumerate(each_contour):\n",
    "                pt_x, pt_y = point[0][0], point[1][1]\n",
    "                black_image[pt_y, py_x] = [255, 255, 255]\n",
    "                cv2.imshow(\"Output Image\", black_image)\n",
    "                if cv2.waitKey(1) & 0xFF == 'q':\n",
    "                    break\n",
    "                \n",
    "    cv2.destroyAllWindows()\n",
    "    \n",
    "   # cv2.imwrite(\"output.avi\", black_image)"
   ]
  },
  {
   "cell_type": "code",
   "execution_count": null,
   "metadata": {},
   "outputs": [],
   "source": []
  },
  {
   "cell_type": "code",
   "execution_count": null,
   "metadata": {},
   "outputs": [],
   "source": []
  }
 ],
 "metadata": {
  "kernelspec": {
   "display_name": "Python 3",
   "language": "python",
   "name": "python3"
  },
  "language_info": {
   "codemirror_mode": {
    "name": "ipython",
    "version": 3
   },
   "file_extension": ".py",
   "mimetype": "text/x-python",
   "name": "python",
   "nbconvert_exporter": "python",
   "pygments_lexer": "ipython3",
   "version": "3.7.7"
  }
 },
 "nbformat": 4,
 "nbformat_minor": 4
}
