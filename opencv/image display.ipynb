{
 "cells": [
  {
   "cell_type": "code",
   "execution_count": 1,
   "metadata": {},
   "outputs": [
    {
     "data": {
      "text/plain": [
       "'C:\\\\Users\\\\91939'"
      ]
     },
     "execution_count": 1,
     "metadata": {},
     "output_type": "execute_result"
    }
   ],
   "source": [
    "pwd"
   ]
  },
  {
   "cell_type": "code",
   "execution_count": 3,
   "metadata": {},
   "outputs": [
    {
     "name": "stdout",
     "output_type": "stream",
     "text": [
      "[[[6 4 4]\n",
      "  [6 4 4]\n",
      "  [6 4 4]\n",
      "  ...\n",
      "  [6 4 4]\n",
      "  [6 4 4]\n",
      "  [6 4 4]]\n",
      "\n",
      " [[6 4 4]\n",
      "  [6 4 4]\n",
      "  [6 4 4]\n",
      "  ...\n",
      "  [6 4 4]\n",
      "  [6 4 4]\n",
      "  [6 4 4]]\n",
      "\n",
      " [[6 4 4]\n",
      "  [6 4 4]\n",
      "  [6 4 4]\n",
      "  ...\n",
      "  [6 4 4]\n",
      "  [6 4 4]\n",
      "  [6 4 4]]\n",
      "\n",
      " ...\n",
      "\n",
      " [[7 5 5]\n",
      "  [7 5 5]\n",
      "  [7 5 5]\n",
      "  ...\n",
      "  [6 4 4]\n",
      "  [6 4 4]\n",
      "  [6 4 4]]\n",
      "\n",
      " [[7 5 5]\n",
      "  [7 5 5]\n",
      "  [7 5 5]\n",
      "  ...\n",
      "  [6 4 4]\n",
      "  [6 4 4]\n",
      "  [6 4 4]]\n",
      "\n",
      " [[7 5 5]\n",
      "  [7 5 5]\n",
      "  [7 5 5]\n",
      "  ...\n",
      "  [6 4 4]\n",
      "  [6 4 4]\n",
      "  [6 4 4]]]\n"
     ]
    }
   ],
   "source": [
    "import cv2\n",
    "img = cv2.imread('khushi.jpg',1)\n",
    "print(img)\n",
    "cv2.imshow('image',img)\n",
    "cv2.waitKey(0)\n",
    "cv2.destroyAllWindows()"
   ]
  },
  {
   "cell_type": "code",
   "execution_count": null,
   "metadata": {},
   "outputs": [],
   "source": []
  }
 ],
 "metadata": {
  "kernelspec": {
   "display_name": "Python 3",
   "language": "python",
   "name": "python3"
  },
  "language_info": {
   "codemirror_mode": {
    "name": "ipython",
    "version": 3
   },
   "file_extension": ".py",
   "mimetype": "text/x-python",
   "name": "python",
   "nbconvert_exporter": "python",
   "pygments_lexer": "ipython3",
   "version": "3.7.4"
  }
 },
 "nbformat": 4,
 "nbformat_minor": 2
}
