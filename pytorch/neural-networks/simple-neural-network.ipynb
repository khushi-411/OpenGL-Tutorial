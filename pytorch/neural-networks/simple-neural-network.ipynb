{
 "cells": [
  {
   "cell_type": "markdown",
   "id": "ac647315",
   "metadata": {},
   "source": [
    "## **Simple Neural Networks**"
   ]
  },
  {
   "cell_type": "markdown",
   "id": "6f561ade",
   "metadata": {},
   "source": [
    "Importing required libraries"
   ]
  },
  {
   "cell_type": "code",
   "execution_count": 1,
   "id": "525d56e3",
   "metadata": {},
   "outputs": [],
   "source": [
    "import os\n",
    "import torch\n",
    "from torch import nn\n",
    "from torch.utils.data import DataLoader\n",
    "from torchvision import datasets, transforms"
   ]
  },
  {
   "cell_type": "markdown",
   "id": "28977a4e",
   "metadata": {},
   "source": [
    "Checking type of device"
   ]
  },
  {
   "cell_type": "code",
   "execution_count": 2,
   "id": "e8300cc2",
   "metadata": {},
   "outputs": [
    {
     "name": "stdout",
     "output_type": "stream",
     "text": [
      "Using cpu device\n"
     ]
    }
   ],
   "source": [
    "device = 'cuda' if torch.cuda.is_available() else 'cpu'\n",
    "print('Using {} device'.format(device))"
   ]
  },
  {
   "cell_type": "markdown",
   "id": "5241cb66",
   "metadata": {},
   "source": [
    "Defining nueral network architecture"
   ]
  },
  {
   "cell_type": "code",
   "execution_count": 3,
   "id": "97314641",
   "metadata": {},
   "outputs": [],
   "source": [
    "class NeuralNetwork(nn.Module):\n",
    "    \"\"\"\n",
    "    the __init__ method defines the network:- function for flattening, network architecture\n",
    "    \n",
    "    forward method:- 1st flattens the input then applies the net structure\n",
    "    \"\"\"\n",
    "    \n",
    "    def __init__(self):\n",
    "        super(NeuralNetwork, self).__init__()\n",
    "        self.flatten = nn.Flatten()\n",
    "        self.linear_relu_stack = nn.Sequential(\n",
    "            nn.Linear(28*28, 512),\n",
    "            nn.ReLU(),\n",
    "            nn.Linear(512, 512),\n",
    "            nn.ReLU(),\n",
    "            nn.Linear(512, 10),\n",
    "            nn.ReLU()\n",
    "        )\n",
    "\n",
    "    def forward(self, x):\n",
    "        x = self.flatten(x)\n",
    "        logits = self.linear_relu_stack(x)\n",
    "        return logits"
   ]
  },
  {
   "cell_type": "markdown",
   "id": "e3f93688",
   "metadata": {},
   "source": [
    "Creating network instance, move it to device and print the structure"
   ]
  },
  {
   "cell_type": "code",
   "execution_count": 4,
   "id": "7832af9a",
   "metadata": {},
   "outputs": [
    {
     "name": "stdout",
     "output_type": "stream",
     "text": [
      "NeuralNetwork(\n",
      "  (flatten): Flatten(start_dim=1, end_dim=-1)\n",
      "  (linear_relu_stack): Sequential(\n",
      "    (0): Linear(in_features=784, out_features=512, bias=True)\n",
      "    (1): ReLU()\n",
      "    (2): Linear(in_features=512, out_features=512, bias=True)\n",
      "    (3): ReLU()\n",
      "    (4): Linear(in_features=512, out_features=10, bias=True)\n",
      "    (5): ReLU()\n",
      "  )\n",
      ")\n"
     ]
    }
   ],
   "source": [
    "model = NeuralNetwork().to(device)\n",
    "print(model)"
   ]
  },
  {
   "cell_type": "markdown",
   "id": "177d0f98",
   "metadata": {},
   "source": [
    "* Passing input data\n",
    "* Calling the model on the input data ------- returns a 10 dimensional tensor with predicted value to each class\n",
    "* Getting prediction probabilities using `nn.Softmax` "
   ]
  },
  {
   "cell_type": "code",
   "execution_count": 5,
   "id": "5f86a8a9",
   "metadata": {},
   "outputs": [
    {
     "name": "stdout",
     "output_type": "stream",
     "text": [
      "Predicted class: tensor([0])\n"
     ]
    }
   ],
   "source": [
    "X = torch.rand(1, 28, 28, device=device)\n",
    "logits = model(X)\n",
    "pred_probab = nn.Softmax(dim=1)(logits)\n",
    "y_pred = pred_probab.argmax(1)\n",
    "print(f\"Predicted class: {y_pred}\")"
   ]
  },
  {
   "cell_type": "markdown",
   "id": "06b5a3f6",
   "metadata": {},
   "source": [
    "Using 3 images of size 28 x 28."
   ]
  },
  {
   "cell_type": "code",
   "execution_count": 6,
   "id": "b8da80ed",
   "metadata": {},
   "outputs": [
    {
     "name": "stdout",
     "output_type": "stream",
     "text": [
      "torch.Size([3, 28, 28])\n"
     ]
    }
   ],
   "source": [
    "input_image = torch.rand(3,28,28)\n",
    "print(input_image.size())"
   ]
  },
  {
   "cell_type": "markdown",
   "id": "c8a9a12d",
   "metadata": {},
   "source": [
    "Using `nn.Flatten` to convert input image to 2D image."
   ]
  },
  {
   "cell_type": "code",
   "execution_count": 7,
   "id": "c4b86883",
   "metadata": {},
   "outputs": [
    {
     "name": "stdout",
     "output_type": "stream",
     "text": [
      "torch.Size([3, 784])\n"
     ]
    }
   ],
   "source": [
    "flatten = nn.Flatten()\n",
    "flat_image = flatten(input_image)\n",
    "print(flat_image.size())"
   ]
  },
  {
   "cell_type": "markdown",
   "id": "8c1dbf94",
   "metadata": {},
   "source": [
    "Applying linear transformation on the input"
   ]
  },
  {
   "cell_type": "code",
   "execution_count": 8,
   "id": "986d7704",
   "metadata": {},
   "outputs": [
    {
     "name": "stdout",
     "output_type": "stream",
     "text": [
      "torch.Size([3, 20])\n"
     ]
    }
   ],
   "source": [
    "layer1 = nn.Linear(in_features=28*28, out_features=20)\n",
    "hidden1 = layer1(flat_image)\n",
    "print(hidden1.size())"
   ]
  },
  {
   "cell_type": "markdown",
   "id": "2c50ec33",
   "metadata": {},
   "source": [
    "Applying non-linear activations ----- creating complex mapping between input and output"
   ]
  },
  {
   "cell_type": "code",
   "execution_count": 9,
   "id": "4602b7f6",
   "metadata": {},
   "outputs": [
    {
     "name": "stdout",
     "output_type": "stream",
     "text": [
      "Before ReLU: tensor([[-0.2296, -0.6312, -0.4354, -0.6535, -0.2458,  0.2998,  0.2098, -0.2778,\n",
      "          0.4642,  0.3735, -0.9103, -0.1168, -0.0728, -0.0995,  0.1878, -0.6349,\n",
      "          0.0741,  0.0706, -0.1252,  0.0095],\n",
      "        [-0.0676,  0.0137, -0.4127, -0.6104, -0.1821,  0.1474,  0.3808, -0.5138,\n",
      "          0.5574,  0.2204, -0.8056, -0.5608,  0.0724, -0.2990, -0.0166, -0.4706,\n",
      "          0.4690, -0.5249, -0.2011, -0.1336],\n",
      "        [-0.1517, -0.2456, -0.6936, -0.3848, -0.0984,  0.1003,  0.2210, -0.4613,\n",
      "          0.4091,  0.3719, -0.8454, -0.4985,  0.0157, -0.0777,  0.5253, -0.5823,\n",
      "          0.3175, -0.3036, -0.2054, -0.0566]], grad_fn=<AddmmBackward>)\n",
      "\n",
      "\n",
      "After ReLU: tensor([[0.0000, 0.0000, 0.0000, 0.0000, 0.0000, 0.2998, 0.2098, 0.0000, 0.4642,\n",
      "         0.3735, 0.0000, 0.0000, 0.0000, 0.0000, 0.1878, 0.0000, 0.0741, 0.0706,\n",
      "         0.0000, 0.0095],\n",
      "        [0.0000, 0.0137, 0.0000, 0.0000, 0.0000, 0.1474, 0.3808, 0.0000, 0.5574,\n",
      "         0.2204, 0.0000, 0.0000, 0.0724, 0.0000, 0.0000, 0.0000, 0.4690, 0.0000,\n",
      "         0.0000, 0.0000],\n",
      "        [0.0000, 0.0000, 0.0000, 0.0000, 0.0000, 0.1003, 0.2210, 0.0000, 0.4091,\n",
      "         0.3719, 0.0000, 0.0000, 0.0157, 0.0000, 0.5253, 0.0000, 0.3175, 0.0000,\n",
      "         0.0000, 0.0000]], grad_fn=<ReluBackward0>)\n"
     ]
    }
   ],
   "source": [
    "print(f\"Before ReLU: {hidden1}\\n\\n\")\n",
    "hidden1 = nn.ReLU()(hidden1)\n",
    "print(f\"After ReLU: {hidden1}\")"
   ]
  },
  {
   "cell_type": "markdown",
   "id": "308e26b9",
   "metadata": {},
   "source": [
    "Applying the network module"
   ]
  },
  {
   "cell_type": "code",
   "execution_count": 10,
   "id": "c8f98234",
   "metadata": {},
   "outputs": [],
   "source": [
    "seq_modules = nn.Sequential(\n",
    "    flatten,\n",
    "    layer1,\n",
    "    nn.ReLU(),\n",
    "    nn.Linear(20, 10)\n",
    ")\n",
    "input_image = torch.rand(3,28,28)\n",
    "logits = seq_modules(input_image)"
   ]
  },
  {
   "cell_type": "markdown",
   "id": "3bba4e9f",
   "metadata": {},
   "source": [
    "* Last linear layer of network\n",
    "* Representing modules predicted probabilities\n",
    "* `dim` parameter indicates the dimension along which the value must sum to 1\n",
    "* The logits are scaled to values [0, 1] "
   ]
  },
  {
   "cell_type": "code",
   "execution_count": 11,
   "id": "3c217de6",
   "metadata": {},
   "outputs": [],
   "source": [
    "softmax = nn.Softmax(dim=1)\n",
    "pred_probab = softmax(logits)"
   ]
  },
  {
   "cell_type": "markdown",
   "id": "7da5a31d",
   "metadata": {},
   "source": [
    "Weights and biases are optimized during training."
   ]
  },
  {
   "cell_type": "code",
   "execution_count": 12,
   "id": "87d45699",
   "metadata": {},
   "outputs": [
    {
     "name": "stdout",
     "output_type": "stream",
     "text": [
      "Model structure:  NeuralNetwork(\n",
      "  (flatten): Flatten(start_dim=1, end_dim=-1)\n",
      "  (linear_relu_stack): Sequential(\n",
      "    (0): Linear(in_features=784, out_features=512, bias=True)\n",
      "    (1): ReLU()\n",
      "    (2): Linear(in_features=512, out_features=512, bias=True)\n",
      "    (3): ReLU()\n",
      "    (4): Linear(in_features=512, out_features=10, bias=True)\n",
      "    (5): ReLU()\n",
      "  )\n",
      ") \n",
      "\n",
      "\n",
      "Layer: linear_relu_stack.0.weight | Size: torch.Size([512, 784]) | Values : tensor([[-0.0247, -0.0079,  0.0188,  ..., -0.0337, -0.0239,  0.0250],\n",
      "        [ 0.0237, -0.0318,  0.0121,  ...,  0.0180,  0.0139, -0.0298]],\n",
      "       grad_fn=<SliceBackward>) \n",
      "\n",
      "Layer: linear_relu_stack.0.bias | Size: torch.Size([512]) | Values : tensor([0.0213, 0.0296], grad_fn=<SliceBackward>) \n",
      "\n",
      "Layer: linear_relu_stack.2.weight | Size: torch.Size([512, 512]) | Values : tensor([[-0.0163,  0.0125, -0.0325,  ..., -0.0148,  0.0257, -0.0165],\n",
      "        [ 0.0172, -0.0239,  0.0358,  ..., -0.0279, -0.0263,  0.0055]],\n",
      "       grad_fn=<SliceBackward>) \n",
      "\n",
      "Layer: linear_relu_stack.2.bias | Size: torch.Size([512]) | Values : tensor([0.0384, 0.0179], grad_fn=<SliceBackward>) \n",
      "\n",
      "Layer: linear_relu_stack.4.weight | Size: torch.Size([10, 512]) | Values : tensor([[ 0.0135, -0.0082, -0.0043,  ...,  0.0373,  0.0212,  0.0352],\n",
      "        [ 0.0079, -0.0059, -0.0326,  ..., -0.0385, -0.0034, -0.0237]],\n",
      "       grad_fn=<SliceBackward>) \n",
      "\n",
      "Layer: linear_relu_stack.4.bias | Size: torch.Size([10]) | Values : tensor([ 0.0160, -0.0390], grad_fn=<SliceBackward>) \n",
      "\n"
     ]
    }
   ],
   "source": [
    "print(\"Model structure: \", model, \"\\n\\n\")\n",
    "\n",
    "for name, param in model.named_parameters():\n",
    "    print(f\"Layer: {name} | Size: {param.size()} | Values : {param[:2]} \\n\")"
   ]
  },
  {
   "cell_type": "code",
   "execution_count": null,
   "id": "0f41f70a",
   "metadata": {},
   "outputs": [],
   "source": []
  }
 ],
 "metadata": {
  "kernelspec": {
   "display_name": "Python 3",
   "language": "python",
   "name": "python3"
  },
  "language_info": {
   "codemirror_mode": {
    "name": "ipython",
    "version": 3
   },
   "file_extension": ".py",
   "mimetype": "text/x-python",
   "name": "python",
   "nbconvert_exporter": "python",
   "pygments_lexer": "ipython3",
   "version": "3.7.7"
  }
 },
 "nbformat": 4,
 "nbformat_minor": 5
}
