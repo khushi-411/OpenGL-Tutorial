{
 "cells": [
  {
   "cell_type": "markdown",
   "id": "fafea826",
   "metadata": {},
   "source": [
    "## **Load Dataset**"
   ]
  },
  {
   "cell_type": "code",
   "execution_count": 23,
   "id": "4566f5bc",
   "metadata": {},
   "outputs": [],
   "source": [
    "import pandas as pd\n",
    "import numpy as np\n",
    "import torch\n",
    "from torch.autograd import Variable"
   ]
  },
  {
   "cell_type": "markdown",
   "id": "d1157289",
   "metadata": {},
   "source": [
    "#### **Using Pandas**"
   ]
  },
  {
   "cell_type": "code",
   "execution_count": 24,
   "id": "4cb6707b",
   "metadata": {},
   "outputs": [],
   "source": [
    "_x_train = pd.read_csv(r\"C:\\Users\\91939\\Downloads\\datasets\\csv-fashion-mnist\\train_LbELtWX\\train.csv\").astype(np.float32)\n",
    "_y_train = pd.read_csv(r\"C:\\Users\\91939\\Downloads\\datasets\\csv-fashion-mnist\\test_ScVgIM0\\test.csv\").astype(np.float32)"
   ]
  },
  {
   "cell_type": "code",
   "execution_count": 25,
   "id": "47d6df76",
   "metadata": {},
   "outputs": [
    {
     "data": {
      "text/html": [
       "<div>\n",
       "<style scoped>\n",
       "    .dataframe tbody tr th:only-of-type {\n",
       "        vertical-align: middle;\n",
       "    }\n",
       "\n",
       "    .dataframe tbody tr th {\n",
       "        vertical-align: top;\n",
       "    }\n",
       "\n",
       "    .dataframe thead th {\n",
       "        text-align: right;\n",
       "    }\n",
       "</style>\n",
       "<table border=\"1\" class=\"dataframe\">\n",
       "  <thead>\n",
       "    <tr style=\"text-align: right;\">\n",
       "      <th></th>\n",
       "      <th>id</th>\n",
       "      <th>label</th>\n",
       "    </tr>\n",
       "  </thead>\n",
       "  <tbody>\n",
       "    <tr>\n",
       "      <th>0</th>\n",
       "      <td>1.0</td>\n",
       "      <td>9.0</td>\n",
       "    </tr>\n",
       "    <tr>\n",
       "      <th>1</th>\n",
       "      <td>2.0</td>\n",
       "      <td>0.0</td>\n",
       "    </tr>\n",
       "    <tr>\n",
       "      <th>2</th>\n",
       "      <td>3.0</td>\n",
       "      <td>0.0</td>\n",
       "    </tr>\n",
       "    <tr>\n",
       "      <th>3</th>\n",
       "      <td>4.0</td>\n",
       "      <td>3.0</td>\n",
       "    </tr>\n",
       "    <tr>\n",
       "      <th>4</th>\n",
       "      <td>5.0</td>\n",
       "      <td>0.0</td>\n",
       "    </tr>\n",
       "    <tr>\n",
       "      <th>...</th>\n",
       "      <td>...</td>\n",
       "      <td>...</td>\n",
       "    </tr>\n",
       "    <tr>\n",
       "      <th>59995</th>\n",
       "      <td>59996.0</td>\n",
       "      <td>5.0</td>\n",
       "    </tr>\n",
       "    <tr>\n",
       "      <th>59996</th>\n",
       "      <td>59997.0</td>\n",
       "      <td>1.0</td>\n",
       "    </tr>\n",
       "    <tr>\n",
       "      <th>59997</th>\n",
       "      <td>59998.0</td>\n",
       "      <td>3.0</td>\n",
       "    </tr>\n",
       "    <tr>\n",
       "      <th>59998</th>\n",
       "      <td>59999.0</td>\n",
       "      <td>0.0</td>\n",
       "    </tr>\n",
       "    <tr>\n",
       "      <th>59999</th>\n",
       "      <td>60000.0</td>\n",
       "      <td>5.0</td>\n",
       "    </tr>\n",
       "  </tbody>\n",
       "</table>\n",
       "<p>60000 rows × 2 columns</p>\n",
       "</div>"
      ],
      "text/plain": [
       "            id  label\n",
       "0          1.0    9.0\n",
       "1          2.0    0.0\n",
       "2          3.0    0.0\n",
       "3          4.0    3.0\n",
       "4          5.0    0.0\n",
       "...        ...    ...\n",
       "59995  59996.0    5.0\n",
       "59996  59997.0    1.0\n",
       "59997  59998.0    3.0\n",
       "59998  59999.0    0.0\n",
       "59999  60000.0    5.0\n",
       "\n",
       "[60000 rows x 2 columns]"
      ]
     },
     "execution_count": 25,
     "metadata": {},
     "output_type": "execute_result"
    }
   ],
   "source": [
    "_x_train"
   ]
  },
  {
   "cell_type": "code",
   "execution_count": 26,
   "id": "d6d44207",
   "metadata": {},
   "outputs": [
    {
     "data": {
      "text/html": [
       "<div>\n",
       "<style scoped>\n",
       "    .dataframe tbody tr th:only-of-type {\n",
       "        vertical-align: middle;\n",
       "    }\n",
       "\n",
       "    .dataframe tbody tr th {\n",
       "        vertical-align: top;\n",
       "    }\n",
       "\n",
       "    .dataframe thead th {\n",
       "        text-align: right;\n",
       "    }\n",
       "</style>\n",
       "<table border=\"1\" class=\"dataframe\">\n",
       "  <thead>\n",
       "    <tr style=\"text-align: right;\">\n",
       "      <th></th>\n",
       "      <th>id</th>\n",
       "    </tr>\n",
       "  </thead>\n",
       "  <tbody>\n",
       "    <tr>\n",
       "      <th>0</th>\n",
       "      <td>60001.0</td>\n",
       "    </tr>\n",
       "    <tr>\n",
       "      <th>1</th>\n",
       "      <td>60002.0</td>\n",
       "    </tr>\n",
       "    <tr>\n",
       "      <th>2</th>\n",
       "      <td>60003.0</td>\n",
       "    </tr>\n",
       "    <tr>\n",
       "      <th>3</th>\n",
       "      <td>60004.0</td>\n",
       "    </tr>\n",
       "    <tr>\n",
       "      <th>4</th>\n",
       "      <td>60005.0</td>\n",
       "    </tr>\n",
       "  </tbody>\n",
       "</table>\n",
       "</div>"
      ],
      "text/plain": [
       "        id\n",
       "0  60001.0\n",
       "1  60002.0\n",
       "2  60003.0\n",
       "3  60004.0\n",
       "4  60005.0"
      ]
     },
     "execution_count": 26,
     "metadata": {},
     "output_type": "execute_result"
    }
   ],
   "source": [
    "_y_train.head()"
   ]
  },
  {
   "cell_type": "code",
   "execution_count": 27,
   "id": "65998b8d",
   "metadata": {},
   "outputs": [],
   "source": [
    "_x_train = torch.tensor(_x_train.values)\n",
    "_y_train = torch.tensor(_y_train.values)"
   ]
  },
  {
   "cell_type": "code",
   "execution_count": 28,
   "id": "e77b2ac9",
   "metadata": {},
   "outputs": [
    {
     "name": "stdout",
     "output_type": "stream",
     "text": [
      "tensor([[1.0000e+00, 9.0000e+00],\n",
      "        [2.0000e+00, 0.0000e+00],\n",
      "        [3.0000e+00, 0.0000e+00],\n",
      "        ...,\n",
      "        [5.9998e+04, 3.0000e+00],\n",
      "        [5.9999e+04, 0.0000e+00],\n",
      "        [6.0000e+04, 5.0000e+00]])\n"
     ]
    }
   ],
   "source": [
    "print(_x_train)"
   ]
  },
  {
   "cell_type": "code",
   "execution_count": 29,
   "id": "5289aef4",
   "metadata": {},
   "outputs": [
    {
     "name": "stdout",
     "output_type": "stream",
     "text": [
      "tensor([[60001.],\n",
      "        [60002.],\n",
      "        [60003.],\n",
      "        ...,\n",
      "        [69998.],\n",
      "        [69999.],\n",
      "        [70000.]])\n"
     ]
    }
   ],
   "source": [
    "print(_y_train)"
   ]
  },
  {
   "cell_type": "markdown",
   "id": "addd6480",
   "metadata": {},
   "source": [
    "#### **Using np.array()**"
   ]
  },
  {
   "cell_type": "code",
   "execution_count": 30,
   "id": "b156cc8d",
   "metadata": {},
   "outputs": [],
   "source": [
    "_x_train = np.array([[3.3], [4.4], [5.5], [6.71], [6.93], [4.168], [9.779], [6.182], [7.59], [2.167], [7.042], [10.791], [5.313], [7.997], [3.1]], dtype=np.float32)\n",
    "_y_train = np.array([[1.7], [2.76], [2.09], [3.19], [1.694], [1.573], [3.366], [2.596], [2.53], [1.221], [2.827], [3.465], [1.65], [2.904], [1.3]], dtype=np.float32)"
   ]
  },
  {
   "cell_type": "code",
   "execution_count": 31,
   "id": "0d458386",
   "metadata": {},
   "outputs": [
    {
     "name": "stdout",
     "output_type": "stream",
     "text": [
      "[[ 3.3  ]\n",
      " [ 4.4  ]\n",
      " [ 5.5  ]\n",
      " [ 6.71 ]\n",
      " [ 6.93 ]\n",
      " [ 4.168]\n",
      " [ 9.779]\n",
      " [ 6.182]\n",
      " [ 7.59 ]\n",
      " [ 2.167]\n",
      " [ 7.042]\n",
      " [10.791]\n",
      " [ 5.313]\n",
      " [ 7.997]\n",
      " [ 3.1  ]]\n"
     ]
    }
   ],
   "source": [
    "print(_x_train)"
   ]
  },
  {
   "cell_type": "code",
   "execution_count": 32,
   "id": "bc315b4e",
   "metadata": {},
   "outputs": [
    {
     "name": "stdout",
     "output_type": "stream",
     "text": [
      "[[1.7  ]\n",
      " [2.76 ]\n",
      " [2.09 ]\n",
      " [3.19 ]\n",
      " [1.694]\n",
      " [1.573]\n",
      " [3.366]\n",
      " [2.596]\n",
      " [2.53 ]\n",
      " [1.221]\n",
      " [2.827]\n",
      " [3.465]\n",
      " [1.65 ]\n",
      " [2.904]\n",
      " [1.3  ]]\n"
     ]
    }
   ],
   "source": [
    "print(_y_train)"
   ]
  },
  {
   "cell_type": "code",
   "execution_count": 33,
   "id": "7d0e60f5",
   "metadata": {},
   "outputs": [],
   "source": [
    "_x_train = torch.from_numpy(_x_train)\n",
    "_y_train = torch.from_numpy(_y_train)"
   ]
  },
  {
   "cell_type": "code",
   "execution_count": 34,
   "id": "505e193b",
   "metadata": {},
   "outputs": [
    {
     "name": "stdout",
     "output_type": "stream",
     "text": [
      "tensor([[ 3.3000],\n",
      "        [ 4.4000],\n",
      "        [ 5.5000],\n",
      "        [ 6.7100],\n",
      "        [ 6.9300],\n",
      "        [ 4.1680],\n",
      "        [ 9.7790],\n",
      "        [ 6.1820],\n",
      "        [ 7.5900],\n",
      "        [ 2.1670],\n",
      "        [ 7.0420],\n",
      "        [10.7910],\n",
      "        [ 5.3130],\n",
      "        [ 7.9970],\n",
      "        [ 3.1000]])\n"
     ]
    }
   ],
   "source": [
    "print(_x_train)"
   ]
  },
  {
   "cell_type": "code",
   "execution_count": 35,
   "id": "c1243b09",
   "metadata": {},
   "outputs": [
    {
     "name": "stdout",
     "output_type": "stream",
     "text": [
      "tensor([[1.7000],\n",
      "        [2.7600],\n",
      "        [2.0900],\n",
      "        [3.1900],\n",
      "        [1.6940],\n",
      "        [1.5730],\n",
      "        [3.3660],\n",
      "        [2.5960],\n",
      "        [2.5300],\n",
      "        [1.2210],\n",
      "        [2.8270],\n",
      "        [3.4650],\n",
      "        [1.6500],\n",
      "        [2.9040],\n",
      "        [1.3000]])\n"
     ]
    }
   ],
   "source": [
    "print(_y_train)"
   ]
  },
  {
   "cell_type": "markdown",
   "id": "637475d7",
   "metadata": {},
   "source": [
    "#### **Using asarray()**"
   ]
  },
  {
   "cell_type": "code",
   "execution_count": 36,
   "id": "3f04cf78",
   "metadata": {},
   "outputs": [],
   "source": [
    "_x_train = np.asarray([float(x) + 1.5 for x in range(10)])\n",
    "_y_train = np.asarray([float(y) + 0.25 for y in range(5)])"
   ]
  },
  {
   "cell_type": "code",
   "execution_count": 37,
   "id": "16da1ee6",
   "metadata": {},
   "outputs": [
    {
     "name": "stdout",
     "output_type": "stream",
     "text": [
      "[ 1.5  2.5  3.5  4.5  5.5  6.5  7.5  8.5  9.5 10.5]\n"
     ]
    }
   ],
   "source": [
    "print(_x_train)"
   ]
  },
  {
   "cell_type": "code",
   "execution_count": 38,
   "id": "661f13d9",
   "metadata": {},
   "outputs": [
    {
     "name": "stdout",
     "output_type": "stream",
     "text": [
      "[0.25 1.25 2.25 3.25 4.25]\n"
     ]
    }
   ],
   "source": [
    "print(_y_train)"
   ]
  },
  {
   "cell_type": "code",
   "execution_count": 39,
   "id": "b66d97c4",
   "metadata": {},
   "outputs": [],
   "source": [
    "dtype = torch.FloatTensor\n",
    "_x_train = Variable(torch.from_numpy(_x_train).type(dtype), requires_grad=False)\n",
    "_y_train = Variable(torch.from_numpy(_y_train).type(dtype), requires_grad=False)"
   ]
  },
  {
   "cell_type": "code",
   "execution_count": 40,
   "id": "a9b599cc",
   "metadata": {},
   "outputs": [
    {
     "name": "stdout",
     "output_type": "stream",
     "text": [
      "tensor([ 1.5000,  2.5000,  3.5000,  4.5000,  5.5000,  6.5000,  7.5000,  8.5000,\n",
      "         9.5000, 10.5000])\n"
     ]
    }
   ],
   "source": [
    "print(_x_train)"
   ]
  },
  {
   "cell_type": "code",
   "execution_count": 41,
   "id": "26a5d333",
   "metadata": {},
   "outputs": [
    {
     "name": "stdout",
     "output_type": "stream",
     "text": [
      "tensor([0.2500, 1.2500, 2.2500, 3.2500, 4.2500])\n"
     ]
    }
   ],
   "source": [
    "print(_y_train)"
   ]
  },
  {
   "cell_type": "markdown",
   "id": "c0b2dcbb",
   "metadata": {},
   "source": [
    "#### **Using ImageFolder Class**"
   ]
  },
  {
   "cell_type": "code",
   "execution_count": 56,
   "id": "d09dbaa1",
   "metadata": {},
   "outputs": [],
   "source": [
    "from torchvision import datasets, transforms\n",
    "import torch\n",
    "import os"
   ]
  },
  {
   "cell_type": "code",
   "execution_count": 57,
   "id": "61f1d64c",
   "metadata": {},
   "outputs": [],
   "source": [
    "transform = transforms.Compose([transforms.Scale(256),\n",
    "                                transforms.RandomResizedCrop(224),\n",
    "                                transforms.RandomHorizontalFlip(),\n",
    "                                transforms.ToTensor()\n",
    "                               ])"
   ]
  },
  {
   "cell_type": "code",
   "execution_count": 58,
   "id": "77ea23cf",
   "metadata": {},
   "outputs": [],
   "source": [
    "folder_path = \"/Users/91939/Downloads/datasets/fashion-mnist/\""
   ]
  },
  {
   "cell_type": "code",
   "execution_count": 59,
   "id": "4af1f3f3",
   "metadata": {},
   "outputs": [
    {
     "name": "stdout",
     "output_type": "stream",
     "text": [
      "<module 'ntpath' from 'C:\\\\Users\\\\91939\\\\Anaconda3\\\\lib\\\\ntpath.py'>\n"
     ]
    }
   ],
   "source": [
    "print(os.path)"
   ]
  },
  {
   "cell_type": "code",
   "execution_count": 60,
   "id": "99859e84",
   "metadata": {},
   "outputs": [
    {
     "name": "stdout",
     "output_type": "stream",
     "text": [
      "/Users/91939/Downloads/datasets/fashion-mnist/\n"
     ]
    }
   ],
   "source": [
    "print(os.path.join(folder_path))"
   ]
  },
  {
   "cell_type": "markdown",
   "id": "db896f87",
   "metadata": {},
   "source": [
    "Keep in mind that structure of folder for using `ImageFolder` is:\n",
    "\n",
    "class-1:\n",
    "      \n",
    "      * 1.jpg\n",
    "      * 2.jpg\n",
    "\n",
    "class-2: \n",
    "      \n",
    "      * 3.jpg\n",
    "      * 4.jpg"
   ]
  },
  {
   "cell_type": "code",
   "execution_count": 61,
   "id": "02e0512a",
   "metadata": {},
   "outputs": [],
   "source": [
    "data = datasets.ImageFolder(root=os.path.join(folder_path), transform=transform)"
   ]
  },
  {
   "cell_type": "code",
   "execution_count": 62,
   "id": "fcb2a05b",
   "metadata": {},
   "outputs": [
    {
     "name": "stdout",
     "output_type": "stream",
     "text": [
      "Dataset ImageFolder\n",
      "    Number of datapoints: 70000\n",
      "    Root location: /Users/91939/Downloads/datasets/fashion-mnist/\n",
      "    StandardTransform\n",
      "Transform: Compose(\n",
      "               Scale(size=256, interpolation=PIL.Image.BILINEAR)\n",
      "               RandomResizedCrop(size=(224, 224), scale=(0.08, 1.0), ratio=(0.75, 1.3333), interpolation=PIL.Image.BILINEAR)\n",
      "               RandomHorizontalFlip(p=0.5)\n",
      "               ToTensor()\n",
      "           )\n"
     ]
    }
   ],
   "source": [
    "print(data)"
   ]
  },
  {
   "cell_type": "markdown",
   "id": "e7e295dd",
   "metadata": {},
   "source": [
    "##### **Loading Data Using DataLoader**"
   ]
  },
  {
   "cell_type": "code",
   "execution_count": 48,
   "id": "15e03881",
   "metadata": {},
   "outputs": [],
   "source": [
    "from torch.utils.data import DataLoader"
   ]
  },
  {
   "cell_type": "code",
   "execution_count": 49,
   "id": "5bf47162",
   "metadata": {},
   "outputs": [],
   "source": [
    "data_load = torch.utils.data.DataLoader(data, batch_size = 64, num_workers = 3)"
   ]
  },
  {
   "cell_type": "markdown",
   "id": "6e3f6586",
   "metadata": {},
   "source": [
    "#### **Creating Custom Datasets**"
   ]
  },
  {
   "cell_type": "code",
   "execution_count": 51,
   "id": "54f5bcd3",
   "metadata": {},
   "outputs": [
    {
     "ename": "NameError",
     "evalue": "name 'Dataset' is not defined",
     "output_type": "error",
     "traceback": [
      "\u001b[1;31m---------------------------------------------------------------------------\u001b[0m",
      "\u001b[1;31mNameError\u001b[0m                                 Traceback (most recent call last)",
      "\u001b[1;32m<ipython-input-51-f4602b92675c>\u001b[0m in \u001b[0;36m<module>\u001b[1;34m\u001b[0m\n\u001b[1;32m----> 1\u001b[1;33m \u001b[1;32mclass\u001b[0m \u001b[0mSquareDataset\u001b[0m\u001b[1;33m(\u001b[0m\u001b[0mDataset\u001b[0m\u001b[1;33m)\u001b[0m\u001b[1;33m:\u001b[0m\u001b[1;33m\u001b[0m\u001b[1;33m\u001b[0m\u001b[0m\n\u001b[0m\u001b[0;32m      2\u001b[0m     \u001b[1;32mdef\u001b[0m \u001b[0m__init__\u001b[0m\u001b[1;33m(\u001b[0m\u001b[0mself\u001b[0m\u001b[1;33m,\u001b[0m \u001b[0ma\u001b[0m\u001b[1;33m=\u001b[0m\u001b[1;36m0\u001b[0m\u001b[1;33m,\u001b[0m \u001b[0mb\u001b[0m\u001b[1;33m=\u001b[0m\u001b[1;36m1\u001b[0m\u001b[1;33m)\u001b[0m\u001b[1;33m:\u001b[0m\u001b[1;33m\u001b[0m\u001b[1;33m\u001b[0m\u001b[0m\n\u001b[0;32m      3\u001b[0m         \u001b[0msuper\u001b[0m\u001b[1;33m(\u001b[0m\u001b[0mDataset\u001b[0m\u001b[1;33m,\u001b[0m \u001b[0mself\u001b[0m\u001b[1;33m)\u001b[0m\u001b[1;33m.\u001b[0m\u001b[0m__init__\u001b[0m\u001b[1;33m(\u001b[0m\u001b[1;33m)\u001b[0m\u001b[1;33m\u001b[0m\u001b[1;33m\u001b[0m\u001b[0m\n\u001b[0;32m      4\u001b[0m         \u001b[1;32massert\u001b[0m \u001b[0ma\u001b[0m \u001b[1;33m<=\u001b[0m \u001b[0mb\u001b[0m\u001b[1;33m\u001b[0m\u001b[1;33m\u001b[0m\u001b[0m\n\u001b[0;32m      5\u001b[0m         \u001b[0mself\u001b[0m\u001b[1;33m.\u001b[0m\u001b[0ma\u001b[0m \u001b[1;33m=\u001b[0m \u001b[0ma\u001b[0m\u001b[1;33m\u001b[0m\u001b[1;33m\u001b[0m\u001b[0m\n",
      "\u001b[1;31mNameError\u001b[0m: name 'Dataset' is not defined"
     ]
    }
   ],
   "source": [
    "class SquareDataset(Dataset):\n",
    "    def __init__(self, a=0, b=1):\n",
    "        super(Dataset, self).__init__()\n",
    "        assert a <= b\n",
    "        self.a = a\n",
    "        self.b = b\n",
    "        \n",
    "    def __len__(self):\n",
    "         return self.b - self.a + 1\n",
    "        \n",
    "    def __getitem__(self, index):\n",
    "        assert self.a <= index <= self.b\n",
    "        return index, index**2\n",
    "\n",
    "data_train = SquareDataset(a=1,b=64)\n",
    "data_train_loader = DataLoader(data_train, batch_size=64, shuffle=True)\n",
    "print(len(data_train))"
   ]
  },
  {
   "cell_type": "markdown",
   "id": "51d93a3b",
   "metadata": {},
   "source": [
    "#### **Using Provided Datasets**"
   ]
  },
  {
   "cell_type": "code",
   "execution_count": 53,
   "id": "52bc7f6f",
   "metadata": {},
   "outputs": [
    {
     "name": "stdout",
     "output_type": "stream",
     "text": [
      "Downloading http://fashion-mnist.s3-website.eu-central-1.amazonaws.com/train-images-idx3-ubyte.gz to data\\FashionMNIST\\raw\\train-images-idx3-ubyte.gz\n"
     ]
    },
    {
     "data": {
      "application/vnd.jupyter.widget-view+json": {
       "model_id": "7cc60f497d994c4e9579e46e5ccfde96",
       "version_major": 2,
       "version_minor": 0
      },
      "text/plain": [
       "0it [00:00, ?it/s]"
      ]
     },
     "metadata": {},
     "output_type": "display_data"
    },
    {
     "name": "stdout",
     "output_type": "stream",
     "text": [
      "Extracting data\\FashionMNIST\\raw\\train-images-idx3-ubyte.gz to data\\FashionMNIST\\raw\n",
      "Downloading http://fashion-mnist.s3-website.eu-central-1.amazonaws.com/train-labels-idx1-ubyte.gz to data\\FashionMNIST\\raw\\train-labels-idx1-ubyte.gz\n"
     ]
    },
    {
     "data": {
      "application/vnd.jupyter.widget-view+json": {
       "model_id": "f531d0b89a334568951139476358d660",
       "version_major": 2,
       "version_minor": 0
      },
      "text/plain": [
       "0it [00:00, ?it/s]"
      ]
     },
     "metadata": {},
     "output_type": "display_data"
    },
    {
     "name": "stdout",
     "output_type": "stream",
     "text": [
      "Extracting data\\FashionMNIST\\raw\\train-labels-idx1-ubyte.gz to data\\FashionMNIST\\raw\n",
      "Downloading http://fashion-mnist.s3-website.eu-central-1.amazonaws.com/t10k-images-idx3-ubyte.gz to data\\FashionMNIST\\raw\\t10k-images-idx3-ubyte.gz\n"
     ]
    },
    {
     "data": {
      "application/vnd.jupyter.widget-view+json": {
       "model_id": "68a0cb1c8ee8481e9adadfb8e3477103",
       "version_major": 2,
       "version_minor": 0
      },
      "text/plain": [
       "0it [00:00, ?it/s]"
      ]
     },
     "metadata": {},
     "output_type": "display_data"
    },
    {
     "name": "stdout",
     "output_type": "stream",
     "text": [
      "Extracting data\\FashionMNIST\\raw\\t10k-images-idx3-ubyte.gz to data\\FashionMNIST\\raw\n",
      "Downloading http://fashion-mnist.s3-website.eu-central-1.amazonaws.com/t10k-labels-idx1-ubyte.gz to data\\FashionMNIST\\raw\\t10k-labels-idx1-ubyte.gz\n"
     ]
    },
    {
     "data": {
      "application/vnd.jupyter.widget-view+json": {
       "model_id": "1dcd435a3e5f4b0aae9c0c58b7a1a0d9",
       "version_major": 2,
       "version_minor": 0
      },
      "text/plain": [
       "0it [00:00, ?it/s]"
      ]
     },
     "metadata": {},
     "output_type": "display_data"
    },
    {
     "name": "stdout",
     "output_type": "stream",
     "text": [
      "Extracting data\\FashionMNIST\\raw\\t10k-labels-idx1-ubyte.gz to data\\FashionMNIST\\raw\n",
      "Processing...\n"
     ]
    },
    {
     "name": "stderr",
     "output_type": "stream",
     "text": [
      "C:\\Users\\91939\\Anaconda3\\lib\\site-packages\\torchvision\\datasets\\mnist.py:480: UserWarning: The given NumPy array is not writeable, and PyTorch does not support non-writeable tensors. This means you can write to the underlying (supposedly non-writeable) NumPy array using the tensor. You may want to copy the array to protect its data or make it writeable before converting it to a tensor. This type of warning will be suppressed for the rest of this program. (Triggered internally at  ..\\torch\\csrc\\utils\\tensor_numpy.cpp:141.)\n",
      "  return torch.from_numpy(parsed.astype(m[2], copy=False)).view(*s)\n"
     ]
    },
    {
     "name": "stdout",
     "output_type": "stream",
     "text": [
      "Done!\n"
     ]
    }
   ],
   "source": [
    "training_data = datasets.FashionMNIST(\n",
    "    root=\"data\",\n",
    "    train=True,\n",
    "    download=True,\n",
    "    transform=transforms.ToTensor()\n",
    ")\n",
    "\n",
    "test_data = datasets.FashionMNIST(\n",
    "    root=\"data\",\n",
    "    train=False,\n",
    "    download=True,\n",
    "    transform=transforms.ToTensor()\n",
    ")"
   ]
  },
  {
   "cell_type": "code",
   "execution_count": 55,
   "id": "22446901",
   "metadata": {},
   "outputs": [],
   "source": [
    "train_dataloader = DataLoader(training_data, batch_size=64, shuffle=True)\n",
    "test_dataloader = DataLoader(test_data, batch_size=64, shuffle=True)"
   ]
  },
  {
   "cell_type": "code",
   "execution_count": null,
   "id": "255e57d2",
   "metadata": {},
   "outputs": [],
   "source": []
  }
 ],
 "metadata": {
  "kernelspec": {
   "display_name": "Python 3",
   "language": "python",
   "name": "python3"
  },
  "language_info": {
   "codemirror_mode": {
    "name": "ipython",
    "version": 3
   },
   "file_extension": ".py",
   "mimetype": "text/x-python",
   "name": "python",
   "nbconvert_exporter": "python",
   "pygments_lexer": "ipython3",
   "version": "3.7.7"
  }
 },
 "nbformat": 4,
 "nbformat_minor": 5
}
